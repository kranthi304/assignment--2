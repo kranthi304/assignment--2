{
 "cells": [
  {
   "cell_type": "code",
   "execution_count": null,
   "id": "566f798d",
   "metadata": {},
   "outputs": [],
   "source": []
  },
  {
   "cell_type": "code",
   "execution_count": null,
   "id": "adbe8c2a",
   "metadata": {},
   "outputs": [],
   "source": [
    "if __name__ == '__main__':\n",
    "    n = int(input())\n",
    "    arr = map(int, input().split())\n",
    "  \n",
    "    \n",
    "    arr=sorted(set(arr))\n",
    "    print(arr[-2])\n"
   ]
  },
  {
   "cell_type": "code",
   "execution_count": null,
   "id": "42f2fd25",
   "metadata": {},
   "outputs": [],
   "source": [
    "if __name__ == '__main__':\n",
    "    n = int(input())\n",
    "    student_marks = {}\n",
    "    for _ in range(n):\n",
    "        name, *line = input().split()\n",
    "        scores = list(map(float, line))\n",
    "        student_marks[name] = scores\n",
    "    query_name = input()\n",
    "    marks_queryname=student_marks[query_name]\n",
    "    average=sum(marks_queryname)/3\n",
    "    print(\"{:.2f}\".format(average))\n",
    "        \n"
   ]
  },
  {
   "cell_type": "code",
   "execution_count": null,
   "id": "81a545d0",
   "metadata": {},
   "outputs": [],
   "source": [
    "if __name__ == '__main__':\n",
    "    n = int(input())\n",
    "    integer_list = map(int, input().split(' '))\n",
    "    \n",
    "    t = tuple(integer_list)\n",
    "    print(hash(t));\n"
   ]
  },
  {
   "cell_type": "code",
   "execution_count": null,
   "id": "c39d10b4",
   "metadata": {},
   "outputs": [],
   "source": [
    "input()\n",
    "s = set(input().split())\n",
    "input()\n",
    "print(len(s.symmetric_difference(input().split())))"
   ]
  },
  {
   "cell_type": "code",
   "execution_count": null,
   "id": "95b494c3",
   "metadata": {},
   "outputs": [],
   "source": [
    "def average(array):\n",
    "    # your code goes here\n",
    "    set_arr = set(array)\n",
    "    return sum(set_arr)/len(set_arr)\n",
    "if __name__ == '__main__':\n",
    "    n = int(input())\n",
    "    arr = list(map(int, input().split()))\n",
    "    result = average(arr)\n",
    "    print(result)"
   ]
  },
  {
   "cell_type": "code",
   "execution_count": null,
   "id": "42c3d7d0",
   "metadata": {},
   "outputs": [],
   "source": [
    "n=int(input())\n",
    "lst=[]\n",
    "for i in range(n):\n",
    "    l = input()\n",
    "    lst.append(l)\n",
    "lst=set(lst)\n",
    "print(len(lst))\n"
   ]
  },
  {
   "cell_type": "code",
   "execution_count": null,
   "id": "165a2296",
   "metadata": {},
   "outputs": [],
   "source": []
  },
  {
   "cell_type": "code",
   "execution_count": null,
   "id": "095f13e2",
   "metadata": {},
   "outputs": [],
   "source": [
    "\n",
    "n1=int(input())\n",
    "a1=set(map(int,input().split(' ')))\n",
    "\n",
    "n2=int(input())\n",
    "a2=set(map(int,input().split(' ')))\n",
    "\n",
    "unin = a1.union(a2)\n",
    "\n",
    "print(len(unin))\n"
   ]
  },
  {
   "cell_type": "code",
   "execution_count": null,
   "id": "da61e508",
   "metadata": {},
   "outputs": [],
   "source": [
    "\n",
    "n1=int(input())\n",
    "a1=set(map(int,input().split(' ')))\n",
    "n2=int(input())\n",
    "a2=set(map(int,input().split(' ')))\n",
    "\n",
    "intrsection=a1.intersection(a2)\n",
    "print(len(intrsection))"
   ]
  },
  {
   "cell_type": "code",
   "execution_count": null,
   "id": "47150492",
   "metadata": {},
   "outputs": [],
   "source": [
    "n1=int(input())\n",
    "a1=set(map(int,input().split(' ')))\n",
    "n2=int(input())\n",
    "a2=set(map(int,input().split(' ')))\n",
    "\n",
    "\n",
    "\n",
    "union_a1_a2=a1.union(a2)\n",
    "intersection_a1_a2 = a1.intersection(a2)\n",
    "only_english=union_a1_a2-intersection_a1_a2-a2\n",
    "\n",
    "print(len(only_english))\n"
   ]
  },
  {
   "cell_type": "code",
   "execution_count": null,
   "id": "17106284",
   "metadata": {},
   "outputs": [],
   "source": []
  },
  {
   "cell_type": "code",
   "execution_count": null,
   "id": "b58dc7aa",
   "metadata": {},
   "outputs": [],
   "source": [
    "b, A = input(), set(map(int, input().split()))\n",
    "for i in range(int(input())):\n",
    "    fun, b = [i  for i in input().split(' ')]\n",
    "    set_values = set(map(int, input().split()))\n",
    "    eval('A.' + fun + '(' + str(set_values) + ')')\n",
    "print(sum(A))"
   ]
  },
  {
   "cell_type": "code",
   "execution_count": null,
   "id": "0eb51975",
   "metadata": {},
   "outputs": [],
   "source": [
    "k=int(input())\n",
    "\n",
    "\n",
    "        \n",
    "lst=list(map(int,input().split(' ')))\n",
    "\n",
    "\n",
    "lst = sorted(lst)\n",
    "\n",
    "for i in range(len(lst)):\n",
    "    if(i != len(lst)-1):\n",
    "        if(lst[i]!=lst[i-1] and lst[i]!=lst[i+1]):\n",
    "            print(lst[i])\n",
    "            break;\n",
    "    else:\n",
    "        print(lst[i])\n"
   ]
  },
  {
   "cell_type": "code",
   "execution_count": null,
   "id": "f74445d9",
   "metadata": {},
   "outputs": [],
   "source": [
    "t=int(input())\n",
    "\n",
    "for i in range(t):\n",
    "    a=int(input())\n",
    "    b=set(map(int,input().split(' ')))\n",
    "    c=int(input())\n",
    "    d=set(map(int,input().split(' ')))\n",
    "    \n",
    "    e=b.intersection(d)\n",
    "    if e==b:\n",
    "        print('True')\n",
    "    else:\n",
    "        print('False')\n"
   ]
  },
  {
   "cell_type": "code",
   "execution_count": null,
   "id": "8e3dfb0c",
   "metadata": {},
   "outputs": [],
   "source": [
    "A = set(input().split())\n",
    "sup = True\n",
    "for _ in range(int(input())):\n",
    "    B = set(input().split())\n",
    "    if not (A > B):\n",
    "        sup = False\n",
    "        break\n",
    "print (sup)\n",
    "    \n"
   ]
  }
 ],
 "metadata": {
  "kernelspec": {
   "display_name": "Python 3 (ipykernel)",
   "language": "python",
   "name": "python3"
  },
  "language_info": {
   "codemirror_mode": {
    "name": "ipython",
    "version": 3
   },
   "file_extension": ".py",
   "mimetype": "text/x-python",
   "name": "python",
   "nbconvert_exporter": "python",
   "pygments_lexer": "ipython3",
   "version": "3.9.12"
  }
 },
 "nbformat": 4,
 "nbformat_minor": 5
}
